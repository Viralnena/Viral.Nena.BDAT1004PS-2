{
 "cells": [
  {
   "cell_type": "code",
   "execution_count": 1,
   "id": "58614e55",
   "metadata": {},
   "outputs": [],
   "source": [
    "a = 0\n",
    "def b():\n",
    "    global a\n",
    "    a = c(a)\n",
    "def c(a):\n",
    "    return a + 2\n"
   ]
  },
  {
   "cell_type": "code",
   "execution_count": 2,
   "id": "91a9841b",
   "metadata": {},
   "outputs": [
    {
     "data": {
      "text/plain": [
       "6"
      ]
     },
     "execution_count": 2,
     "metadata": {},
     "output_type": "execute_result"
    }
   ],
   "source": [
    "b()\n",
    "b()\n",
    "b()\n",
    "\n",
    "a"
   ]
  },
  {
   "cell_type": "markdown",
   "id": "7e0fc254",
   "metadata": {},
   "source": [
    "\"a\" is utilised in both b and c because its initial value is 0. B() utilises c(), which raises the values in a by 2. In this manner, 2 is added to the value of an each time b is called, and c is also called. Since \"a\" is a global variable, every time b is called, a's value is updated globally."
   ]
  },
  {
   "cell_type": "code",
   "execution_count": null,
   "id": "15ceb0d5",
   "metadata": {},
   "outputs": [],
   "source": []
  }
 ],
 "metadata": {
  "kernelspec": {
   "display_name": "Python 3 (ipykernel)",
   "language": "python",
   "name": "python3"
  },
  "language_info": {
   "codemirror_mode": {
    "name": "ipython",
    "version": 3
   },
   "file_extension": ".py",
   "mimetype": "text/x-python",
   "name": "python",
   "nbconvert_exporter": "python",
   "pygments_lexer": "ipython3",
   "version": "3.9.12"
  }
 },
 "nbformat": 4,
 "nbformat_minor": 5
}
